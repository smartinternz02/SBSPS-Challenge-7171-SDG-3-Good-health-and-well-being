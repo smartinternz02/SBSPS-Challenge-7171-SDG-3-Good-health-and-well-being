import pandas as pd
import os
import numpy as np
import matplotlib.pyplot as plt
from sklearn import linear_model
import statsmodels.api as sm
from sklearn.model_selection import train_test_split
os.chdir("C:/Users/GOD/Desktop")
#Import the excel file mydata.xlsx to the local workin directory before running the code 
read_my_file=pd.read_excel("mydata.xlsx",header=[0],index_col=0)
h_d=read_my_file.copy()
# h_d.info()
# h_d.isnull().sum()
# h_d.dtypes
# changing the column name for easy reference
h_d.rename(columns={'Births in the 5 years preceding the survey that are third or higher order (%)' :"BIRTH",' Any method6 (%)' : "AM",' Any modern method6 (%)':"AMM",' Female sterilization (%)':"FM",' Male sterilization (%)':"MS",' IUD/PPIUD (%)':"IUD",' Pill (%)':"PILL",' Condom (%)':"CON",'Injectables (%)':"INJ"},inplace=True)
#h_d.columns.values.tolist()  to get the column name
#for the plotting purpose
d1=h_d.loc[:, ["BIRTH","AM", "AMM","FM","MS","IUD","PILL","CON","INJ"]]
d2=d1.transpose()
#font1 = {'family':'serif','color':'blue','size':20}
#font2 = {'family':'serif','color':'darkred','size':15}
#plt.title("ADILABAD",fontdict=font1)
#plt.xlabel(" Different Family Plans",fontdict=font2)
#plt.ylabel(" Use in percentage")
#plt.plot(d2)
#data d2

features = ['AM', 'AMM', 'FM', 'MS','IUD','PILL','CON','INJ']
# where ' Any method6 (%)' : "AM",' Any modern method6 (%)':"AMM",' Female sterilization (%)':"FM",' Male sterilization (%)':"MS",' IUD/PPIUD (%)':"IUD",' Pill (%)':"PILL",' Condom (%)':"CON",'Injectables (%)':"INJ"
target = 'BIRTH'
#where 'Births in the 5 years preceding the survey that are third or higher order (%)' :"BIRTH"
X = d1[features].values# independent values
Y = d1[target].values# dependendent value
#ols = linear_model.LinearRegression()
model =sm.OLS(Y,X).fit()
model.summary()